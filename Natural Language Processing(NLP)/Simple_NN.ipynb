{
 "cells": [
  {
   "cell_type": "code",
   "execution_count": 1,
   "id": "6ca886b6",
   "metadata": {},
   "outputs": [],
   "source": [
    "input = [1,2,3,4]\n",
    "output = [2,4,6,8]"
   ]
  },
  {
   "cell_type": "code",
   "execution_count": 2,
   "id": "54cb0d7c",
   "metadata": {},
   "outputs": [],
   "source": [
    "w = 0.0\n",
    "b = 0.0\n",
    "lr = 0.01"
   ]
  },
  {
   "cell_type": "code",
   "execution_count": 3,
   "id": "7b04d04b",
   "metadata": {},
   "outputs": [
    {
     "data": {
      "text/plain": [
       "[(1, 2), (2, 4), (3, 6), (4, 8)]"
      ]
     },
     "execution_count": 3,
     "metadata": {},
     "output_type": "execute_result"
    }
   ],
   "source": [
    "list(zip(input, output))"
   ]
  },
  {
   "cell_type": "code",
   "execution_count": 4,
   "id": "f773d913",
   "metadata": {},
   "outputs": [
    {
     "name": "stdout",
     "output_type": "stream",
     "text": [
      "Epoch 0| Loss: 79.8796 | w: 0.9710 | b: 0.3380\n",
      "Epoch 10| Loss: 0.2317 | w: 1.8257 | b: 0.5597\n",
      "Epoch 20| Loss: 0.1803 | w: 1.8467 | b: 0.4933\n",
      "Epoch 30| Loss: 0.1400 | w: 1.8649 | b: 0.4348\n",
      "Epoch 40| Loss: 0.1087 | w: 1.8809 | b: 0.3831\n",
      "Epoch 50| Loss: 0.0844 | w: 1.8951 | b: 0.3376\n",
      "Epoch 60| Loss: 0.0656 | w: 1.9075 | b: 0.2976\n",
      "Epoch 70| Loss: 0.0509 | w: 1.9185 | b: 0.2622\n",
      "Epoch 80| Loss: 0.0395 | w: 1.9282 | b: 0.2311\n",
      "Epoch 90| Loss: 0.0307 | w: 1.9367 | b: 0.2036\n",
      "Predicted value for input 7 is 13.786374872617987\n"
     ]
    }
   ],
   "source": [
    "for epoch in range(100):\n",
    "    total_loss = 0\n",
    "    for x, y in zip(input, output):\n",
    "        # Forward pass\n",
    "        y_pred = w * x + b\n",
    "        error = y_pred - y\n",
    "        loss = error ** 2\n",
    "        total_loss += loss\n",
    "        \n",
    "        # Backpropagation\n",
    "        # Calculate gradients dl/dw and dl/db\n",
    "        # where dl is the loss  and dw, db are the weights and bias\n",
    "        dw = 2 * (error) * x  #w_grad\n",
    "        db = 2 * (error)      #b_grad\n",
    "        \n",
    "        # Update weights\n",
    "        # formula: w = w - lr * dw and b = b - lr * db\n",
    "        # where w is the weight, b is the bias, and lr is the learning rate\n",
    "        w = w - lr * dw\n",
    "        b = b - lr * db\n",
    "    if epoch % 10 == 0:\n",
    "        print(f'Epoch {epoch}| Loss: {total_loss:.4f} | w: {w:.4f} | b: {b:.4f}')\n",
    "\n",
    "test_data = 7\n",
    "predicted = w * test_data + b\n",
    "print(f'Predicted value for input {test_data} is {predicted}')"
   ]
  },
  {
   "cell_type": "code",
   "execution_count": 5,
   "id": "eb93459d",
   "metadata": {},
   "outputs": [],
   "source": [
    "input = [1,2,3,4,5]\n",
    "output = [2,4,6,8,10]"
   ]
  },
  {
   "cell_type": "code",
   "execution_count": 6,
   "id": "5517cd1d",
   "metadata": {},
   "outputs": [],
   "source": [
    "w1 , b1 = 0.1, 0.0\n",
    "w2 , b2 = -0.1, 0.0\n",
    "w3 , w4 = 0.1, 0.1\n",
    "b3 = 0.0\n",
    "lr = 0.01"
   ]
  },
  {
   "cell_type": "code",
   "execution_count": 7,
   "id": "5076a2d9",
   "metadata": {},
   "outputs": [],
   "source": [
    "def relu(x):\n",
    "    return max(0, x)"
   ]
  },
  {
   "cell_type": "code",
   "execution_count": 8,
   "id": "bccefe31",
   "metadata": {},
   "outputs": [],
   "source": [
    "def relu_derivative(x):\n",
    "    return 1 if x > 0 else 0"
   ]
  },
  {
   "cell_type": "code",
   "execution_count": 10,
   "id": "478cd6e7",
   "metadata": {},
   "outputs": [
    {
     "name": "stdout",
     "output_type": "stream",
     "text": [
      "Epoch 0| Loss: 0.0000 | w1: 1.3998 | b1: -0.3033 | w2: -0.1000 | b2: 0.0000 | w3: 1.4281 | w4: 0.1000 | b3: 0.4383\n",
      "Epoch 10| Loss: 0.0000 | w1: 1.3998 | b1: -0.3043 | w2: -0.1000 | b2: 0.0000 | w3: 1.4284 | w4: 0.1000 | b3: 0.4376\n",
      "Epoch 20| Loss: 0.0000 | w1: 1.3999 | b1: -0.3049 | w2: -0.1000 | b2: 0.0000 | w3: 1.4285 | w4: 0.1000 | b3: 0.4372\n",
      "Epoch 30| Loss: 0.0000 | w1: 1.3999 | b1: -0.3052 | w2: -0.1000 | b2: 0.0000 | w3: 1.4286 | w4: 0.1000 | b3: 0.4370\n",
      "Epoch 40| Loss: 0.0000 | w1: 1.3999 | b1: -0.3054 | w2: -0.1000 | b2: 0.0000 | w3: 1.4286 | w4: 0.1000 | b3: 0.4368\n",
      "Epoch 50| Loss: 0.0000 | w1: 1.3999 | b1: -0.3055 | w2: -0.1000 | b2: 0.0000 | w3: 1.4287 | w4: 0.1000 | b3: 0.4368\n",
      "Epoch 60| Loss: 0.0000 | w1: 1.3999 | b1: -0.3056 | w2: -0.1000 | b2: 0.0000 | w3: 1.4287 | w4: 0.1000 | b3: 0.4367\n",
      "Epoch 70| Loss: 0.0000 | w1: 1.3999 | b1: -0.3056 | w2: -0.1000 | b2: 0.0000 | w3: 1.4287 | w4: 0.1000 | b3: 0.4367\n",
      "Epoch 80| Loss: 0.0000 | w1: 1.3999 | b1: -0.3056 | w2: -0.1000 | b2: 0.0000 | w3: 1.4287 | w4: 0.1000 | b3: 0.4367\n",
      "Epoch 90| Loss: 0.0000 | w1: 1.3999 | b1: -0.3056 | w2: -0.1000 | b2: 0.0000 | w3: 1.4287 | w4: 0.1000 | b3: 0.4367\n",
      "Predicted value for input 7 is 17.999990674462214\n"
     ]
    }
   ],
   "source": [
    "for epoch in range(100):\n",
    "    total_loss = 0\n",
    "    # Forward pass\n",
    "    for x, y in zip(input, output):\n",
    "        z1 = w1 * x + b1\n",
    "        h1 = relu(z1)\n",
    "\n",
    "        z2 = w2 * x + b2\n",
    "        h2 = relu(z2)\n",
    "\n",
    "        z3 = w3 * h1 + w4 * h2 + b3\n",
    "        y_pred = z3\n",
    "\n",
    "        error = y_pred - y\n",
    "        loss = error ** 2      \n",
    "        total_loss += loss\n",
    "\n",
    "        # Backpropagation\n",
    "        dL_dy = 2 * (error)\n",
    "\n",
    "        dw3 = dL_dy * h1\n",
    "        dw4 = dL_dy * h2    \n",
    "        db3 = dL_dy\n",
    "\n",
    "        # Calculate gradients for h1 and h2\n",
    "        dh1 = dL_dy * w3    \n",
    "        dh2 = dL_dy * w4\n",
    "\n",
    "        # Calculate gradients for z1 and z2\n",
    "        dz1 = dh1 * relu_derivative(z1)\n",
    "        dz2 = dh2 * relu_derivative(z2)\n",
    "\n",
    "        # Calculate gradients for w1, w2, b1, and b2\n",
    "        dw1 = dz1 * x\n",
    "        db1 = dz1\n",
    "\n",
    "        dw2 = dz2 * x\n",
    "        db2 = dz2\n",
    "\n",
    "\n",
    "        # Update weights and biases        w1 -= lr * dw1\n",
    "        w1 = w1 - lr * dw1\n",
    "        b1 = b1 - lr * db1\n",
    "\n",
    "        w2 = w2 - lr * dw2      \n",
    "        b2 = b2 - lr * db2\n",
    "\n",
    "        w3 = w3 - lr * dw3\n",
    "        w4 = w4 - lr * dw4\n",
    "        b3 = b3 - lr * db3\n",
    "\n",
    "    if epoch % 10 == 0:\n",
    "        print(f'Epoch {epoch}| Loss: {total_loss:.4f} | w1: {w1:.4f} | b1: {b1:.4f} | w2: {w2:.4f} | b2: {b2:.4f} | w3: {w3:.4f} | w4: {w4:.4f} | b3: {b3:.4f}')\n",
    "\n",
    "def predict(x):\n",
    "    z1 = w1 * x + b1\n",
    "    h1 = relu(z1)\n",
    "\n",
    "    z2 = w2 * x + b2\n",
    "    h2 = relu(z2)\n",
    "\n",
    "    y_output = w3 * h1 + w4 * h2 + b3\n",
    "    return y_output\n",
    "\n",
    "predicted = predict(9)\n",
    "print(f'Predicted value for input 7 is {predicted}')\n"
   ]
  }
 ],
 "metadata": {
  "kernelspec": {
   "display_name": "Python 3",
   "language": "python",
   "name": "python3"
  },
  "language_info": {
   "codemirror_mode": {
    "name": "ipython",
    "version": 3
   },
   "file_extension": ".py",
   "mimetype": "text/x-python",
   "name": "python",
   "nbconvert_exporter": "python",
   "pygments_lexer": "ipython3",
   "version": "3.13.3"
  }
 },
 "nbformat": 4,
 "nbformat_minor": 5
}
