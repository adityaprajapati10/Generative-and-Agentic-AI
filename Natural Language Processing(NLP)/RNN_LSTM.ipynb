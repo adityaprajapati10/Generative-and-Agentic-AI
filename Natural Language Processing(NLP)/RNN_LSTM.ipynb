{
 "cells": [
  {
   "cell_type": "code",
   "execution_count": 1,
   "id": "51f048d3",
   "metadata": {},
   "outputs": [],
   "source": [
    "import tensorflow as tf\n",
    "import numpy as np"
   ]
  },
  {
   "cell_type": "code",
   "execution_count": 44,
   "id": "1ad513da",
   "metadata": {},
   "outputs": [],
   "source": [
    "data = 'help'\n",
    "char2idx = {'h':0, 'e':1, 'l':2, 'p':3}\n",
    "idx2char = {v : k for k, v in char2idx.items()}"
   ]
  },
  {
   "cell_type": "code",
   "execution_count": 45,
   "id": "a6c3393e",
   "metadata": {},
   "outputs": [
    {
     "data": {
      "text/plain": [
       "{'h': 0, 'e': 1, 'l': 2, 'p': 3}"
      ]
     },
     "execution_count": 45,
     "metadata": {},
     "output_type": "execute_result"
    }
   ],
   "source": [
    "char2idx"
   ]
  },
  {
   "cell_type": "code",
   "execution_count": 46,
   "id": "71187f0a",
   "metadata": {},
   "outputs": [
    {
     "data": {
      "text/plain": [
       "{0: 'h', 1: 'e', 2: 'l', 3: 'p'}"
      ]
     },
     "execution_count": 46,
     "metadata": {},
     "output_type": "execute_result"
    }
   ],
   "source": [
    "idx2char\n"
   ]
  },
  {
   "cell_type": "code",
   "execution_count": 47,
   "id": "997cc983",
   "metadata": {},
   "outputs": [],
   "source": [
    "input_seq = [char2idx[c] for c in data[:-1]]\n",
    "target_seq = [char2idx[c] for c in data[1:]]"
   ]
  },
  {
   "cell_type": "code",
   "execution_count": 48,
   "id": "f6499261",
   "metadata": {},
   "outputs": [
    {
     "data": {
      "text/plain": [
       "[0, 1, 2]"
      ]
     },
     "execution_count": 48,
     "metadata": {},
     "output_type": "execute_result"
    }
   ],
   "source": [
    "input_seq"
   ]
  },
  {
   "cell_type": "code",
   "execution_count": 49,
   "id": "c447b84c",
   "metadata": {},
   "outputs": [
    {
     "data": {
      "text/plain": [
       "[1, 2, 3]"
      ]
     },
     "execution_count": 49,
     "metadata": {},
     "output_type": "execute_result"
    }
   ],
   "source": [
    "target_seq"
   ]
  },
  {
   "cell_type": "code",
   "execution_count": 50,
   "id": "8024a082",
   "metadata": {},
   "outputs": [],
   "source": [
    "x = tf.one_hot(input_seq, depth=len(char2idx))\n",
    "x = tf.expand_dims(x, axis=0)\n",
    "y = tf.expand_dims(target_seq, axis=0)"
   ]
  },
  {
   "cell_type": "code",
   "execution_count": 51,
   "id": "4b9b5a9b",
   "metadata": {},
   "outputs": [
    {
     "data": {
      "text/plain": [
       "<tf.Tensor: shape=(1, 3, 4), dtype=float32, numpy=\n",
       "array([[[1., 0., 0., 0.],\n",
       "        [0., 1., 0., 0.],\n",
       "        [0., 0., 1., 0.]]], dtype=float32)>"
      ]
     },
     "execution_count": 51,
     "metadata": {},
     "output_type": "execute_result"
    }
   ],
   "source": [
    "x"
   ]
  },
  {
   "cell_type": "code",
   "execution_count": 52,
   "id": "669b85a7",
   "metadata": {},
   "outputs": [
    {
     "data": {
      "text/plain": [
       "<tf.Tensor: shape=(1, 3), dtype=int32, numpy=array([[1, 2, 3]])>"
      ]
     },
     "execution_count": 52,
     "metadata": {},
     "output_type": "execute_result"
    }
   ],
   "source": [
    "y"
   ]
  },
  {
   "cell_type": "code",
   "execution_count": 53,
   "id": "c4c507ac",
   "metadata": {},
   "outputs": [],
   "source": [
    "model = tf.keras.Sequential([\n",
    "    tf.keras.layers.LSTM(8,return_sequences=True , input_shape =(3,4) ) , \n",
    "    tf.keras.layers.Dense(4,activation='linear')\n",
    "    ])"
   ]
  },
  {
   "cell_type": "code",
   "execution_count": 54,
   "id": "a5dda2ff",
   "metadata": {},
   "outputs": [],
   "source": [
    "model.compile(\n",
    "    optimizer='adam' ,loss = tf.keras.losses.SparseCategoricalCrossentropy(\n",
    "        from_logits=True\n",
    "    )\n",
    ")"
   ]
  },
  {
   "cell_type": "code",
   "execution_count": 55,
   "id": "dbec15d6",
   "metadata": {},
   "outputs": [
    {
     "name": "stdout",
     "output_type": "stream",
     "text": [
      "epoch : 0 , prediction : eep , loss : 0.7125089764595032 \n",
      "epoch : 50 , prediction : eep , loss : 0.7125089764595032 \n",
      "epoch : 100 , prediction : epp , loss : 0.7125089764595032 \n",
      "epoch : 150 , prediction : epp , loss : 0.7125089764595032 \n",
      "epoch : 200 , prediction : elp , loss : 0.7125089764595032 \n",
      "epoch : 250 , prediction : elp , loss : 0.7125089764595032 \n",
      "epoch : 300 , prediction : elp , loss : 0.7125089764595032 \n",
      "epoch : 350 , prediction : elp , loss : 0.7125089764595032 \n",
      "epoch : 400 , prediction : elp , loss : 0.7125089764595032 \n",
      "epoch : 450 , prediction : elp , loss : 0.7125089764595032 \n",
      "epoch : 500 , prediction : elp , loss : 0.7125089764595032 \n"
     ]
    }
   ],
   "source": [
    "for epoch in range(501):\n",
    "    model.train_on_batch(x,y)\n",
    "    \n",
    "    if epoch % 50  == 0 :\n",
    "        output = model(x)\n",
    "        pred = tf.argmax(output,axis = -1).numpy()[0]\n",
    "        pred_char = \"\".join([idx2char[i] for i in pred] )\n",
    "        print(f\"epoch : {epoch} , prediction : {pred_char} , loss : {loss} \")"
   ]
  }
 ],
 "metadata": {
  "kernelspec": {
   "display_name": "Python 3",
   "language": "python",
   "name": "python3"
  },
  "language_info": {
   "codemirror_mode": {
    "name": "ipython",
    "version": 3
   },
   "file_extension": ".py",
   "mimetype": "text/x-python",
   "name": "python",
   "nbconvert_exporter": "python",
   "pygments_lexer": "ipython3",
   "version": "3.9.7"
  }
 },
 "nbformat": 4,
 "nbformat_minor": 5
}
