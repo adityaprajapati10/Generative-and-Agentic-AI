{
 "cells": [
  {
   "cell_type": "code",
   "execution_count": null,
   "id": "3751e3fb",
   "metadata": {},
   "outputs": [],
   "source": [
    "## One-Hot Encoding"
   ]
  },
  {
   "cell_type": "code",
   "execution_count": 48,
   "id": "38d657df",
   "metadata": {},
   "outputs": [],
   "source": [
    "corpus = [\"I love nlp\", 'I teach gen ai', 'I am working with euron']"
   ]
  },
  {
   "cell_type": "code",
   "execution_count": 49,
   "id": "c28b6537",
   "metadata": {},
   "outputs": [],
   "source": [
    "unique_words = list(set(\" \".join(corpus).split()))"
   ]
  },
  {
   "cell_type": "code",
   "execution_count": 50,
   "id": "de5fbfd6",
   "metadata": {},
   "outputs": [
    {
     "data": {
      "text/plain": [
       "['I', 'euron', 'am', 'ai', 'working', 'teach', 'nlp', 'with', 'gen', 'love']"
      ]
     },
     "execution_count": 50,
     "metadata": {},
     "output_type": "execute_result"
    }
   ],
   "source": [
    "unique_words"
   ]
  },
  {
   "cell_type": "code",
   "execution_count": 51,
   "id": "1d5bb802",
   "metadata": {},
   "outputs": [
    {
     "data": {
      "text/plain": [
       "<enumerate at 0x1bf4bda8270>"
      ]
     },
     "execution_count": 51,
     "metadata": {},
     "output_type": "execute_result"
    }
   ],
   "source": [
    "enumerate(unique_words)"
   ]
  },
  {
   "cell_type": "code",
   "execution_count": 52,
   "id": "88f04922",
   "metadata": {},
   "outputs": [
    {
     "name": "stdout",
     "output_type": "stream",
     "text": [
      "(0, 'I')\n",
      "(1, 'euron')\n",
      "(2, 'am')\n",
      "(3, 'ai')\n",
      "(4, 'working')\n",
      "(5, 'teach')\n",
      "(6, 'nlp')\n",
      "(7, 'with')\n",
      "(8, 'gen')\n",
      "(9, 'love')\n"
     ]
    }
   ],
   "source": [
    "for i in enumerate(unique_words):\n",
    "    print(i)"
   ]
  },
  {
   "cell_type": "code",
   "execution_count": 53,
   "id": "5438a2ee",
   "metadata": {},
   "outputs": [],
   "source": [
    "word_to_index = {word: i for i,word in enumerate(unique_words)}"
   ]
  },
  {
   "cell_type": "code",
   "execution_count": 54,
   "id": "713a1b93",
   "metadata": {},
   "outputs": [
    {
     "data": {
      "text/plain": [
       "{'I': 0,\n",
       " 'euron': 1,\n",
       " 'am': 2,\n",
       " 'ai': 3,\n",
       " 'working': 4,\n",
       " 'teach': 5,\n",
       " 'nlp': 6,\n",
       " 'with': 7,\n",
       " 'gen': 8,\n",
       " 'love': 9}"
      ]
     },
     "execution_count": 54,
     "metadata": {},
     "output_type": "execute_result"
    }
   ],
   "source": [
    "word_to_index"
   ]
  },
  {
   "cell_type": "code",
   "execution_count": 55,
   "id": "f8b84350",
   "metadata": {},
   "outputs": [
    {
     "name": "stdout",
     "output_type": "stream",
     "text": [
      "I love nlp\n",
      "[0, 0, 0, 0, 0, 0, 0, 0, 0, 0]\n",
      "[0, 0, 0, 0, 0, 0, 0, 0, 0, 0]\n",
      "[0, 0, 0, 0, 0, 0, 0, 0, 0, 0]\n",
      "I teach gen ai\n",
      "[0, 0, 0, 0, 0, 0, 0, 0, 0, 0]\n",
      "[0, 0, 0, 0, 0, 0, 0, 0, 0, 0]\n",
      "[0, 0, 0, 0, 0, 0, 0, 0, 0, 0]\n",
      "[0, 0, 0, 0, 0, 0, 0, 0, 0, 0]\n",
      "I am working with euron\n",
      "[0, 0, 0, 0, 0, 0, 0, 0, 0, 0]\n",
      "[0, 0, 0, 0, 0, 0, 0, 0, 0, 0]\n",
      "[0, 0, 0, 0, 0, 0, 0, 0, 0, 0]\n",
      "[0, 0, 0, 0, 0, 0, 0, 0, 0, 0]\n",
      "[0, 0, 0, 0, 0, 0, 0, 0, 0, 0]\n"
     ]
    }
   ],
   "source": [
    "one_hot_vectors = []\n",
    "for sentence in corpus:\n",
    "    print(sentence)\n",
    "    sentence_vector = []\n",
    "    for word in sentence.split():\n",
    "        vector = [0] * len(unique_words)\n",
    "        print(vector)\n",
    "        vector[word_to_index[word]] = 1\n",
    "        # print(word_to_index[word])\n",
    "        # print(vector[word_to_index[word]])\n",
    "        sentence_vector.append(vector)\n",
    "    one_hot_vectors.append(sentence_vector)"
   ]
  },
  {
   "cell_type": "code",
   "execution_count": 56,
   "id": "e98965c2",
   "metadata": {},
   "outputs": [
    {
     "data": {
      "text/plain": [
       "[[[1, 0, 0, 0, 0, 0, 0, 0, 0, 0],\n",
       "  [0, 0, 0, 0, 0, 0, 0, 0, 0, 1],\n",
       "  [0, 0, 0, 0, 0, 0, 1, 0, 0, 0]],\n",
       " [[1, 0, 0, 0, 0, 0, 0, 0, 0, 0],\n",
       "  [0, 0, 0, 0, 0, 1, 0, 0, 0, 0],\n",
       "  [0, 0, 0, 0, 0, 0, 0, 0, 1, 0],\n",
       "  [0, 0, 0, 1, 0, 0, 0, 0, 0, 0]],\n",
       " [[1, 0, 0, 0, 0, 0, 0, 0, 0, 0],\n",
       "  [0, 0, 1, 0, 0, 0, 0, 0, 0, 0],\n",
       "  [0, 0, 0, 0, 1, 0, 0, 0, 0, 0],\n",
       "  [0, 0, 0, 0, 0, 0, 0, 1, 0, 0],\n",
       "  [0, 1, 0, 0, 0, 0, 0, 0, 0, 0]]]"
      ]
     },
     "execution_count": 56,
     "metadata": {},
     "output_type": "execute_result"
    }
   ],
   "source": [
    "one_hot_vectors"
   ]
  },
  {
   "cell_type": "code",
   "execution_count": null,
   "id": "8a95d898",
   "metadata": {},
   "outputs": [],
   "source": [
    "## Bag of Words (BoW)"
   ]
  },
  {
   "cell_type": "code",
   "execution_count": 57,
   "id": "aab1ffd0",
   "metadata": {},
   "outputs": [
    {
     "name": "stdout",
     "output_type": "stream",
     "text": [
      "Defaulting to user installation because normal site-packages is not writeable\n",
      "Requirement already satisfied: scikit-learn in c:\\users\\rnwj68\\appdata\\roaming\\python\\python313\\site-packages (1.7.0)\n",
      "Requirement already satisfied: numpy>=1.22.0 in c:\\users\\rnwj68\\appdata\\roaming\\python\\python313\\site-packages (from scikit-learn) (2.3.1)\n",
      "Requirement already satisfied: scipy>=1.8.0 in c:\\users\\rnwj68\\appdata\\roaming\\python\\python313\\site-packages (from scikit-learn) (1.16.0)\n",
      "Requirement already satisfied: joblib>=1.2.0 in c:\\users\\rnwj68\\appdata\\roaming\\python\\python313\\site-packages (from scikit-learn) (1.5.1)\n",
      "Requirement already satisfied: threadpoolctl>=3.1.0 in c:\\users\\rnwj68\\appdata\\roaming\\python\\python313\\site-packages (from scikit-learn) (3.6.0)\n"
     ]
    },
    {
     "name": "stderr",
     "output_type": "stream",
     "text": [
      "\n",
      "[notice] A new release of pip is available: 25.0.1 -> 25.1.1\n",
      "[notice] To update, run: python.exe -m pip install --upgrade pip\n"
     ]
    }
   ],
   "source": [
    "!pip install scikit-learn"
   ]
  },
  {
   "cell_type": "code",
   "execution_count": 58,
   "id": "f671ae9c",
   "metadata": {},
   "outputs": [],
   "source": [
    "from sklearn.feature_extraction.text import CountVectorizer"
   ]
  },
  {
   "cell_type": "code",
   "execution_count": 59,
   "id": "185a8a79",
   "metadata": {},
   "outputs": [],
   "source": [
    "vectorizer = CountVectorizer(stop_words=None, lowercase=False, vocabulary=unique_words)"
   ]
  },
  {
   "cell_type": "code",
   "execution_count": 60,
   "id": "a4b381af",
   "metadata": {},
   "outputs": [],
   "source": [
    "corpus = [\"I love nlp\", 'I teach gen ai', 'I am working with euron'] "
   ]
  },
  {
   "cell_type": "code",
   "execution_count": 61,
   "id": "0332c5a1",
   "metadata": {},
   "outputs": [],
   "source": [
    "x = vectorizer.fit_transform(corpus)"
   ]
  },
  {
   "cell_type": "code",
   "execution_count": 62,
   "id": "9d5b836a",
   "metadata": {},
   "outputs": [
    {
     "data": {
      "text/plain": [
       "array([[0, 0, 0, 0, 0, 0, 1, 0, 0, 1],\n",
       "       [0, 0, 0, 1, 0, 1, 0, 0, 1, 0],\n",
       "       [0, 1, 1, 0, 1, 0, 0, 1, 0, 0]])"
      ]
     },
     "execution_count": 62,
     "metadata": {},
     "output_type": "execute_result"
    }
   ],
   "source": [
    "x.toarray()"
   ]
  },
  {
   "cell_type": "code",
   "execution_count": 64,
   "id": "2f2d5246",
   "metadata": {},
   "outputs": [
    {
     "data": {
      "text/plain": [
       "array(['I', 'euron', 'am', 'ai', 'working', 'teach', 'nlp', 'with', 'gen',\n",
       "       'love'], dtype=object)"
      ]
     },
     "execution_count": 64,
     "metadata": {},
     "output_type": "execute_result"
    }
   ],
   "source": [
    "vectorizer.get_feature_names_out()"
   ]
  },
  {
   "cell_type": "code",
   "execution_count": null,
   "id": "ccdd0779",
   "metadata": {},
   "outputs": [],
   "source": [
    "## TF-IDF (Term Frequency-Inverse Document Frequency)"
   ]
  },
  {
   "cell_type": "code",
   "execution_count": 65,
   "id": "9d9b1c38",
   "metadata": {},
   "outputs": [
    {
     "data": {
      "text/plain": [
       "['I love nlp', 'I teach gen ai', 'I am working with euron']"
      ]
     },
     "execution_count": 65,
     "metadata": {},
     "output_type": "execute_result"
    }
   ],
   "source": [
    "corpus "
   ]
  },
  {
   "cell_type": "code",
   "execution_count": 56,
   "id": "0b194dca",
   "metadata": {},
   "outputs": [
    {
     "ename": "ModuleNotFoundError",
     "evalue": "No module named 'sklearn'",
     "output_type": "error",
     "traceback": [
      "\u001b[1;31m---------------------------------------------------------------------------\u001b[0m",
      "\u001b[1;31mModuleNotFoundError\u001b[0m                       Traceback (most recent call last)",
      "Cell \u001b[1;32mIn[56], line 1\u001b[0m\n\u001b[1;32m----> 1\u001b[0m \u001b[38;5;28;01mfrom\u001b[39;00m\u001b[38;5;250m \u001b[39m\u001b[38;5;21;01msklearn\u001b[39;00m\u001b[38;5;21;01m.\u001b[39;00m\u001b[38;5;21;01mfeature_extraction\u001b[39;00m\u001b[38;5;21;01m.\u001b[39;00m\u001b[38;5;21;01mtext\u001b[39;00m\u001b[38;5;250m \u001b[39m\u001b[38;5;28;01mimport\u001b[39;00m TfidfVectorizer\n",
      "\u001b[1;31mModuleNotFoundError\u001b[0m: No module named 'sklearn'"
     ]
    }
   ],
   "source": [
    "from sklearn.feature_extraction.text import TfidfVectorizer"
   ]
  },
  {
   "cell_type": "code",
   "execution_count": 71,
   "id": "4a44d335",
   "metadata": {},
   "outputs": [],
   "source": [
    "vect_tf_idf = TfidfVectorizer()"
   ]
  },
  {
   "cell_type": "code",
   "execution_count": 72,
   "id": "4f219031",
   "metadata": {},
   "outputs": [],
   "source": [
    "X = vect_tf_idf.fit_transform(corpus)"
   ]
  },
  {
   "cell_type": "code",
   "execution_count": 74,
   "id": "4195b902",
   "metadata": {},
   "outputs": [
    {
     "data": {
      "text/plain": [
       "array([[0.        , 0.        , 0.        , 0.        , 0.70710678,\n",
       "        0.70710678, 0.        , 0.        , 0.        ],\n",
       "       [0.57735027, 0.        , 0.        , 0.57735027, 0.        ,\n",
       "        0.        , 0.57735027, 0.        , 0.        ],\n",
       "       [0.        , 0.5       , 0.5       , 0.        , 0.        ,\n",
       "        0.        , 0.        , 0.5       , 0.5       ]])"
      ]
     },
     "execution_count": 74,
     "metadata": {},
     "output_type": "execute_result"
    }
   ],
   "source": [
    "X.toarray()"
   ]
  },
  {
   "cell_type": "code",
   "execution_count": null,
   "id": "e12dd15a",
   "metadata": {},
   "outputs": [],
   "source": [
    "# Word2Vec"
   ]
  },
  {
   "cell_type": "code",
   "execution_count": 1,
   "id": "093f546d",
   "metadata": {},
   "outputs": [
    {
     "name": "stdout",
     "output_type": "stream",
     "text": [
      "Requirement already satisfied: pip in c:\\users\\rnwj68\\appdata\\local\\programs\\python\\python39\\lib\\site-packages (21.2.3)\n",
      "Collecting pip\n",
      "  Downloading pip-25.1.1-py3-none-any.whl (1.8 MB)\n",
      "Requirement already satisfied: setuptools in c:\\users\\rnwj68\\appdata\\local\\programs\\python\\python39\\lib\\site-packages (57.4.0)\n",
      "Collecting setuptools\n",
      "  Downloading setuptools-80.9.0-py3-none-any.whl (1.2 MB)\n",
      "Collecting wheel\n",
      "  Downloading wheel-0.45.1-py3-none-any.whl (72 kB)\n",
      "Installing collected packages: wheel, setuptools, pip\n",
      "  Attempting uninstall: setuptools\n",
      "    Found existing installation: setuptools 57.4.0\n",
      "    Uninstalling setuptools-57.4.0:\n",
      "      Successfully uninstalled setuptools-57.4.0\n",
      "  Attempting uninstall: pip\n",
      "    Found existing installation: pip 21.2.3\n",
      "    Uninstalling pip-21.2.3:\n",
      "      Successfully uninstalled pip-21.2.3\n",
      "Successfully installed pip-25.1.1 setuptools-80.9.0 wheel-0.45.1\n",
      "Collecting numpy\n",
      "  Downloading numpy-2.0.2-cp39-cp39-win_amd64.whl.metadata (59 kB)\n",
      "Downloading numpy-2.0.2-cp39-cp39-win_amd64.whl (15.9 MB)\n",
      "   ---------------------------------------- 0.0/15.9 MB ? eta -:--:--\n",
      "   -- ------------------------------------- 1.0/15.9 MB 7.1 MB/s eta 0:00:03\n",
      "   --- ------------------------------------ 1.3/15.9 MB 6.7 MB/s eta 0:00:03\n",
      "   --- ------------------------------------ 1.3/15.9 MB 6.7 MB/s eta 0:00:03\n",
      "   --- ------------------------------------ 1.3/15.9 MB 6.7 MB/s eta 0:00:03\n",
      "   ----- ---------------------------------- 2.1/15.9 MB 2.0 MB/s eta 0:00:08\n",
      "   ---------- ----------------------------- 4.2/15.9 MB 3.2 MB/s eta 0:00:04\n",
      "   --------------- ------------------------ 6.0/15.9 MB 4.0 MB/s eta 0:00:03\n",
      "   ------------------ --------------------- 7.3/15.9 MB 4.5 MB/s eta 0:00:02\n",
      "   ------------------ --------------------- 7.3/15.9 MB 4.5 MB/s eta 0:00:02\n",
      "   --------------------- ------------------ 8.4/15.9 MB 3.9 MB/s eta 0:00:02\n",
      "   -------------------------- ------------- 10.5/15.9 MB 4.5 MB/s eta 0:00:02\n",
      "   ------------------------------- -------- 12.6/15.9 MB 4.9 MB/s eta 0:00:01\n",
      "   ------------------------------------ --- 14.4/15.9 MB 5.2 MB/s eta 0:00:01\n",
      "   ---------------------------------------  15.7/15.9 MB 5.4 MB/s eta 0:00:01\n",
      "   ---------------------------------------  15.7/15.9 MB 5.4 MB/s eta 0:00:01\n",
      "   ---------------------------------------- 15.9/15.9 MB 5.0 MB/s eta 0:00:00\n",
      "Installing collected packages: numpy\n",
      "Successfully installed numpy-2.0.2\n",
      "Collecting gensim\n",
      "  Downloading gensim-4.3.3-cp39-cp39-win_amd64.whl.metadata (8.2 kB)\n",
      "Collecting numpy<2.0,>=1.18.5 (from gensim)\n",
      "  Downloading numpy-1.26.4-cp39-cp39-win_amd64.whl.metadata (61 kB)\n",
      "Collecting scipy<1.14.0,>=1.7.0 (from gensim)\n",
      "  Downloading scipy-1.13.1-cp39-cp39-win_amd64.whl.metadata (60 kB)\n",
      "Collecting smart-open>=1.8.1 (from gensim)\n",
      "  Downloading smart_open-7.3.0.post1-py3-none-any.whl.metadata (24 kB)\n",
      "Collecting wrapt (from smart-open>=1.8.1->gensim)\n",
      "  Downloading wrapt-1.17.2-cp39-cp39-win_amd64.whl.metadata (6.5 kB)\n",
      "Downloading gensim-4.3.3-cp39-cp39-win_amd64.whl (24.0 MB)\n",
      "   ---------------------------------------- 0.0/24.0 MB ? eta -:--:--\n",
      "   - -------------------------------------- 0.8/24.0 MB 3.7 MB/s eta 0:00:07\n",
      "   --- ------------------------------------ 2.1/24.0 MB 4.9 MB/s eta 0:00:05\n",
      "   ------ --------------------------------- 3.7/24.0 MB 6.2 MB/s eta 0:00:04\n",
      "   --------- ------------------------------ 5.8/24.0 MB 7.0 MB/s eta 0:00:03\n",
      "   ------------- -------------------------- 7.9/24.0 MB 7.6 MB/s eta 0:00:03\n",
      "   ---------------- ----------------------- 10.0/24.0 MB 7.9 MB/s eta 0:00:02\n",
      "   -------------------- ------------------- 12.1/24.0 MB 8.1 MB/s eta 0:00:02\n",
      "   ----------------------- ---------------- 14.2/24.0 MB 8.4 MB/s eta 0:00:02\n",
      "   -------------------------- ------------- 16.0/24.0 MB 8.4 MB/s eta 0:00:01\n",
      "   ------------------------------ --------- 18.1/24.0 MB 8.6 MB/s eta 0:00:01\n",
      "   --------------------------------- ------ 19.9/24.0 MB 8.6 MB/s eta 0:00:01\n",
      "   ------------------------------------- -- 22.3/24.0 MB 8.8 MB/s eta 0:00:01\n",
      "   ---------------------------------------  23.9/24.0 MB 8.9 MB/s eta 0:00:01\n",
      "   ---------------------------------------  23.9/24.0 MB 8.9 MB/s eta 0:00:01\n",
      "   ---------------------------------------  23.9/24.0 MB 8.9 MB/s eta 0:00:01\n",
      "   ---------------------------------------  23.9/24.0 MB 8.9 MB/s eta 0:00:01\n",
      "   ---------------------------------------  23.9/24.0 MB 8.9 MB/s eta 0:00:01\n",
      "   ---------------------------------------  23.9/24.0 MB 8.9 MB/s eta 0:00:01\n",
      "   ---------------------------------------  23.9/24.0 MB 8.9 MB/s eta 0:00:01\n",
      "   ---------------------------------------  23.9/24.0 MB 8.9 MB/s eta 0:00:01\n",
      "   ---------------------------------------- 24.0/24.0 MB 5.6 MB/s eta 0:00:00\n",
      "Downloading numpy-1.26.4-cp39-cp39-win_amd64.whl (15.8 MB)\n",
      "   ---------------------------------------- 0.0/15.8 MB ? eta -:--:--\n",
      "   --- ------------------------------------ 1.3/15.8 MB 6.7 MB/s eta 0:00:03\n",
      "   -------- ------------------------------- 3.4/15.8 MB 8.8 MB/s eta 0:00:02\n",
      "   -------------- ------------------------- 5.8/15.8 MB 9.3 MB/s eta 0:00:02\n",
      "   ------------------- -------------------- 7.9/15.8 MB 9.5 MB/s eta 0:00:01\n",
      "   ----------------------- ---------------- 9.2/15.8 MB 8.9 MB/s eta 0:00:01\n",
      "   --------------------------- ------------ 10.7/15.8 MB 8.6 MB/s eta 0:00:01\n",
      "   -------------------------------- ------- 12.8/15.8 MB 8.8 MB/s eta 0:00:01\n",
      "   ------------------------------------- -- 14.7/15.8 MB 8.7 MB/s eta 0:00:01\n",
      "   ---------------------------------------  15.7/15.8 MB 8.6 MB/s eta 0:00:01\n",
      "   ---------------------------------------  15.7/15.8 MB 8.6 MB/s eta 0:00:01\n",
      "   ---------------------------------------- 15.8/15.8 MB 7.3 MB/s eta 0:00:00\n",
      "Downloading scipy-1.13.1-cp39-cp39-win_amd64.whl (46.2 MB)\n",
      "   ---------------------------------------- 0.0/46.2 MB ? eta -:--:--\n",
      "    --------------------------------------- 0.8/46.2 MB 5.6 MB/s eta 0:00:09\n",
      "   -- ------------------------------------- 2.9/46.2 MB 7.3 MB/s eta 0:00:06\n",
      "   ---- ----------------------------------- 5.0/46.2 MB 8.2 MB/s eta 0:00:06\n",
      "   ------ --------------------------------- 7.1/46.2 MB 8.6 MB/s eta 0:00:05\n",
      "   ------- -------------------------------- 9.2/46.2 MB 8.9 MB/s eta 0:00:05\n",
      "   --------- ------------------------------ 10.7/46.2 MB 8.7 MB/s eta 0:00:05\n",
      "   ----------- ---------------------------- 12.8/46.2 MB 8.9 MB/s eta 0:00:04\n",
      "   ------------ --------------------------- 14.9/46.2 MB 9.0 MB/s eta 0:00:04\n",
      "   -------------- ------------------------- 17.0/46.2 MB 9.1 MB/s eta 0:00:04\n",
      "   ---------------- ----------------------- 19.4/46.2 MB 9.2 MB/s eta 0:00:03\n",
      "   ------------------ --------------------- 21.2/46.2 MB 9.3 MB/s eta 0:00:03\n",
      "   -------------------- ------------------- 23.3/46.2 MB 9.3 MB/s eta 0:00:03\n",
      "   --------------------- ------------------ 24.9/46.2 MB 9.2 MB/s eta 0:00:03\n",
      "   ----------------------- ---------------- 27.3/46.2 MB 9.3 MB/s eta 0:00:03\n",
      "   ------------------------- -------------- 29.1/46.2 MB 9.2 MB/s eta 0:00:02\n",
      "   ------------------------- -------------- 29.4/46.2 MB 9.2 MB/s eta 0:00:02\n",
      "   -------------------------- ------------- 30.4/46.2 MB 8.5 MB/s eta 0:00:02\n",
      "   --------------------------- ------------ 32.0/46.2 MB 8.4 MB/s eta 0:00:02\n",
      "   ----------------------------- ---------- 33.6/46.2 MB 8.4 MB/s eta 0:00:02\n",
      "   ------------------------------ --------- 35.7/46.2 MB 8.4 MB/s eta 0:00:02\n",
      "   -------------------------------- ------- 37.5/46.2 MB 8.5 MB/s eta 0:00:02\n",
      "   ---------------------------------- ----- 39.3/46.2 MB 8.5 MB/s eta 0:00:01\n",
      "   ---------------------------------- ----- 39.8/46.2 MB 8.5 MB/s eta 0:00:01\n",
      "   ----------------------------------- ---- 40.6/46.2 MB 8.0 MB/s eta 0:00:01\n",
      "   ------------------------------------ --- 42.7/46.2 MB 8.1 MB/s eta 0:00:01\n",
      "   -------------------------------------- - 44.8/46.2 MB 8.1 MB/s eta 0:00:01\n",
      "   ---------------------------------------  46.1/46.2 MB 8.2 MB/s eta 0:00:01\n",
      "   ---------------------------------------- 46.2/46.2 MB 8.0 MB/s eta 0:00:00\n",
      "Downloading smart_open-7.3.0.post1-py3-none-any.whl (61 kB)\n",
      "Downloading wrapt-1.17.2-cp39-cp39-win_amd64.whl (38 kB)\n",
      "Installing collected packages: wrapt, numpy, smart-open, scipy, gensim\n",
      "\n",
      "  Attempting uninstall: numpy\n",
      "\n",
      "    Found existing installation: numpy 2.0.2\n",
      "\n",
      "   -------- ------------------------------- 1/5 [numpy]\n",
      "    Uninstalling numpy-2.0.2:\n",
      "   -------- ------------------------------- 1/5 [numpy]\n",
      "   -------- ------------------------------- 1/5 [numpy]\n",
      "      Successfully uninstalled numpy-2.0.2\n",
      "   -------- ------------------------------- 1/5 [numpy]\n",
      "   -------- ------------------------------- 1/5 [numpy]\n",
      "   -------- ------------------------------- 1/5 [numpy]\n",
      "   -------- ------------------------------- 1/5 [numpy]\n",
      "   -------- ------------------------------- 1/5 [numpy]\n",
      "   -------- ------------------------------- 1/5 [numpy]\n",
      "   -------- ------------------------------- 1/5 [numpy]\n",
      "   -------- ------------------------------- 1/5 [numpy]\n",
      "   -------- ------------------------------- 1/5 [numpy]\n",
      "   -------- ------------------------------- 1/5 [numpy]\n",
      "   -------- ------------------------------- 1/5 [numpy]\n",
      "   -------- ------------------------------- 1/5 [numpy]\n",
      "   -------- ------------------------------- 1/5 [numpy]\n",
      "   -------- ------------------------------- 1/5 [numpy]\n",
      "   -------- ------------------------------- 1/5 [numpy]\n",
      "   -------- ------------------------------- 1/5 [numpy]\n",
      "   -------- ------------------------------- 1/5 [numpy]\n",
      "   -------- ------------------------------- 1/5 [numpy]\n",
      "   -------- ------------------------------- 1/5 [numpy]\n",
      "   -------- ------------------------------- 1/5 [numpy]\n",
      "   -------- ------------------------------- 1/5 [numpy]\n",
      "   -------- ------------------------------- 1/5 [numpy]\n",
      "   -------- ------------------------------- 1/5 [numpy]\n",
      "   -------- ------------------------------- 1/5 [numpy]\n",
      "   -------- ------------------------------- 1/5 [numpy]\n",
      "   -------- ------------------------------- 1/5 [numpy]\n",
      "   -------- ------------------------------- 1/5 [numpy]\n",
      "   -------- ------------------------------- 1/5 [numpy]\n",
      "   -------- ------------------------------- 1/5 [numpy]\n",
      "   -------- ------------------------------- 1/5 [numpy]\n",
      "   -------- ------------------------------- 1/5 [numpy]\n",
      "   -------- ------------------------------- 1/5 [numpy]\n",
      "   -------- ------------------------------- 1/5 [numpy]\n",
      "   -------- ------------------------------- 1/5 [numpy]\n",
      "   -------- ------------------------------- 1/5 [numpy]\n",
      "   -------- ------------------------------- 1/5 [numpy]\n",
      "   ---------------- ----------------------- 2/5 [smart-open]\n",
      "   ------------------------ --------------- 3/5 [scipy]\n",
      "   ------------------------ --------------- 3/5 [scipy]\n",
      "   ------------------------ --------------- 3/5 [scipy]\n",
      "   ------------------------ --------------- 3/5 [scipy]\n",
      "   ------------------------ --------------- 3/5 [scipy]\n",
      "   ------------------------ --------------- 3/5 [scipy]\n",
      "   ------------------------ --------------- 3/5 [scipy]\n",
      "   ------------------------ --------------- 3/5 [scipy]\n",
      "   ------------------------ --------------- 3/5 [scipy]\n",
      "   ------------------------ --------------- 3/5 [scipy]\n",
      "   ------------------------ --------------- 3/5 [scipy]\n",
      "   ------------------------ --------------- 3/5 [scipy]\n",
      "   ------------------------ --------------- 3/5 [scipy]\n",
      "   ------------------------ --------------- 3/5 [scipy]\n",
      "   ------------------------ --------------- 3/5 [scipy]\n",
      "   ------------------------ --------------- 3/5 [scipy]\n",
      "   ------------------------ --------------- 3/5 [scipy]\n",
      "   ------------------------ --------------- 3/5 [scipy]\n",
      "   ------------------------ --------------- 3/5 [scipy]\n",
      "   ------------------------ --------------- 3/5 [scipy]\n",
      "   ------------------------ --------------- 3/5 [scipy]\n",
      "   ------------------------ --------------- 3/5 [scipy]\n",
      "   ------------------------ --------------- 3/5 [scipy]\n",
      "   ------------------------ --------------- 3/5 [scipy]\n",
      "   ------------------------ --------------- 3/5 [scipy]\n",
      "   ------------------------ --------------- 3/5 [scipy]\n",
      "   ------------------------ --------------- 3/5 [scipy]\n",
      "   ------------------------ --------------- 3/5 [scipy]\n",
      "   ------------------------ --------------- 3/5 [scipy]\n",
      "   ------------------------ --------------- 3/5 [scipy]\n",
      "   ------------------------ --------------- 3/5 [scipy]\n",
      "   ------------------------ --------------- 3/5 [scipy]\n",
      "   ------------------------ --------------- 3/5 [scipy]\n",
      "   ------------------------ --------------- 3/5 [scipy]\n",
      "   ------------------------ --------------- 3/5 [scipy]\n",
      "   ------------------------ --------------- 3/5 [scipy]\n",
      "   ------------------------ --------------- 3/5 [scipy]\n",
      "   ------------------------ --------------- 3/5 [scipy]\n",
      "   ------------------------ --------------- 3/5 [scipy]\n",
      "   ------------------------ --------------- 3/5 [scipy]\n",
      "   ------------------------ --------------- 3/5 [scipy]\n",
      "   ------------------------ --------------- 3/5 [scipy]\n",
      "   ------------------------ --------------- 3/5 [scipy]\n",
      "   ------------------------ --------------- 3/5 [scipy]\n",
      "   ------------------------ --------------- 3/5 [scipy]\n",
      "   ------------------------ --------------- 3/5 [scipy]\n",
      "   ------------------------ --------------- 3/5 [scipy]\n",
      "   ------------------------ --------------- 3/5 [scipy]\n",
      "   ------------------------ --------------- 3/5 [scipy]\n",
      "   ------------------------ --------------- 3/5 [scipy]\n",
      "   ------------------------ --------------- 3/5 [scipy]\n",
      "   ------------------------ --------------- 3/5 [scipy]\n",
      "   ------------------------ --------------- 3/5 [scipy]\n",
      "   ------------------------ --------------- 3/5 [scipy]\n",
      "   ------------------------ --------------- 3/5 [scipy]\n",
      "   -------------------------------- ------- 4/5 [gensim]\n",
      "   -------------------------------- ------- 4/5 [gensim]\n",
      "   -------------------------------- ------- 4/5 [gensim]\n",
      "   -------------------------------- ------- 4/5 [gensim]\n",
      "   -------------------------------- ------- 4/5 [gensim]\n",
      "   -------------------------------- ------- 4/5 [gensim]\n",
      "   -------------------------------- ------- 4/5 [gensim]\n",
      "   -------------------------------- ------- 4/5 [gensim]\n",
      "   ---------------------------------------- 5/5 [gensim]\n",
      "\n",
      "Successfully installed gensim-4.3.3 numpy-1.26.4 scipy-1.13.1 smart-open-7.3.0.post1 wrapt-1.17.2\n"
     ]
    }
   ],
   "source": [
    "!python -m pip install --upgrade pip setuptools wheel\n",
    "!python -m pip install numpy --only-binary=:all:\n",
    "!python -m pip install gensim\n"
   ]
  },
  {
   "cell_type": "code",
   "execution_count": 10,
   "id": "02f70201",
   "metadata": {},
   "outputs": [],
   "source": [
    "import gensim\n",
    "from gensim.models import Word2Vec \n",
    "import nltk\n",
    "from nltk.tokenize import word_tokenize\n",
    "from nltk.corpus import stopwords\n",
    "import string\n",
    "import re\n",
    "import numpy as np\n",
    "import matplotlib.pyplot as plt \n"
   ]
  },
  {
   "cell_type": "code",
   "execution_count": 11,
   "id": "e26ffbc1",
   "metadata": {},
   "outputs": [
    {
     "name": "stderr",
     "output_type": "stream",
     "text": [
      "[nltk_data] Downloading package punkt to\n",
      "[nltk_data]     C:\\Users\\RNWJ68\\AppData\\Roaming\\nltk_data...\n",
      "[nltk_data]   Package punkt is already up-to-date!\n",
      "[nltk_data] Downloading package stopwords to\n",
      "[nltk_data]     C:\\Users\\RNWJ68\\AppData\\Roaming\\nltk_data...\n",
      "[nltk_data]   Package stopwords is already up-to-date!\n"
     ]
    },
    {
     "data": {
      "text/plain": [
       "True"
      ]
     },
     "execution_count": 11,
     "metadata": {},
     "output_type": "execute_result"
    }
   ],
   "source": [
    "nltk.download('punkt')\n",
    "nltk.download('stopwords')"
   ]
  },
  {
   "cell_type": "code",
   "execution_count": null,
   "id": "02c4f91e",
   "metadata": {},
   "outputs": [],
   "source": [
    "# punkt => Tokenizer for splitting sentences into words.\n",
    "# stopwords => List of common words that are often removed from text data (e.g., \"the\", \"is\", \"and\")."
   ]
  },
  {
   "cell_type": "code",
   "execution_count": 221,
   "id": "57ae79ac",
   "metadata": {},
   "outputs": [],
   "source": [
    "corpus = [\n",
    "    \"my name is Aditya Babu .\",\n",
    "    \"i am working at Motorola\",\n",
    "    \"I am a software engineer .\",\n",
    "    \"dfkad f,gvnketg kjghvnhrktjk ###nkhgkesrfg 56948\",\n",
    "    \"nlp is very interesting  field\",\n",
    "    \"I love to work with gen ai\",\n",
    "    \"i am trying to Learn word2vc\",\n",
    "    \"i will try to build two models for word2vec cbow and skip-gram\",\n",
    "    \"i will also work on cleaning the data which is basically a part of data preprocessing\",\n",
    "    \"natural language processing is a very Interesting field\",\n",
    "    \"i am also working on building a chatbot using Nlp and gen ai\",\n",
    "    \"it is going to perform better than the previous models like one hot encoding, bag of words, tf-idf,\",\n",
    "    \"word\"\n",
    "    \"word2vec is a very powerful technique for word embeddings\",\n",
    "    \"it is used to convert words into vectors\",    \n",
    "    \"it is used to convert words into vectors that can be used for various NLP tasks\",\n",
    "    \"it is used to convert words into vectors that can be used for various NLP tasks like sentiment analysis, text classification, etc.\",\n",
    "    \"it is used to convert words into vectors that can be used for various NLP tasks like sentiment analysis, text classification, etc. and it is also used to convert words into vectors that can be used for various NLP tasks like sentiment analysis, text classification, etc. and it is also used to convert words into vectors that can be used for various NLP tasks like sentiment analysis, text classification, etc.\",\n",
    "    \"it is used to convert words into vectors that can be used for various NLP tasks like grammar correction, text summarization, etc.\",\n",
    "    \"it is used to convert words into vectors that can be used for various NLP tasks like\",\n",
    "    \"i love to work with gen ai and nlp\",\n",
    "    \"john is a software engineer\",\n",
    "    \"john is a software engineer and he is working at Motorola\",   \n",
    "    \"john is a software engineer and he is working at Motorola and he is also working on building a chatbot using Nlp and gen ai\",\n",
    "    \"john is a backend developer and he is working at Motorola\",\n",
    "    \"john is a backend developer and he is working at Motorola and he is also working on building a chatbot using Nlp and gen ai\",\n",
    "    \"siya var ram chandra ki jai\",\n",
    "    \"siya var ram chandra ki jai and sita is the wife of ram\",\n",
    "    \n",
    "]"
   ]
  },
  {
   "cell_type": "code",
   "execution_count": 222,
   "id": "e1bc5744",
   "metadata": {},
   "outputs": [],
   "source": [
    "s = \"my name is Aditya Babu 12082002    .\""
   ]
  },
  {
   "cell_type": "code",
   "execution_count": 223,
   "id": "70512f16",
   "metadata": {},
   "outputs": [
    {
     "data": {
      "text/plain": [
       "'my name is aditya babu 12082002    .'"
      ]
     },
     "execution_count": 223,
     "metadata": {},
     "output_type": "execute_result"
    }
   ],
   "source": [
    "s.lower()"
   ]
  },
  {
   "cell_type": "code",
   "execution_count": 224,
   "id": "3e9401b6",
   "metadata": {},
   "outputs": [
    {
     "data": {
      "text/plain": [
       "'my name is Aditya Babu     .'"
      ]
     },
     "execution_count": 224,
     "metadata": {},
     "output_type": "execute_result"
    }
   ],
   "source": [
    "re.sub(r'\\d+', '', s)"
   ]
  },
  {
   "cell_type": "code",
   "execution_count": 225,
   "id": "3c6fe7de",
   "metadata": {},
   "outputs": [
    {
     "data": {
      "text/plain": [
       "'!\"#$%&\\'()*+,-./:;<=>?@[\\\\]^_`{|}~'"
      ]
     },
     "execution_count": 225,
     "metadata": {},
     "output_type": "execute_result"
    }
   ],
   "source": [
    "string.punctuation"
   ]
  },
  {
   "cell_type": "code",
   "execution_count": 226,
   "id": "1e644bd1",
   "metadata": {},
   "outputs": [
    {
     "data": {
      "text/plain": [
       "'my name is Aditya Babu 12082002    '"
      ]
     },
     "execution_count": 226,
     "metadata": {},
     "output_type": "execute_result"
    }
   ],
   "source": [
    "s.translate(str.maketrans('', '', string.punctuation))"
   ]
  },
  {
   "cell_type": "code",
   "execution_count": 227,
   "id": "9c926ffa",
   "metadata": {},
   "outputs": [
    {
     "data": {
      "text/plain": [
       "['my', 'name', 'is', 'Aditya', 'Babu', '12082002', '.']"
      ]
     },
     "execution_count": 227,
     "metadata": {},
     "output_type": "execute_result"
    }
   ],
   "source": [
    "words = word_tokenize(s)    \n",
    "words"
   ]
  },
  {
   "cell_type": "code",
   "execution_count": 228,
   "id": "080a64ec",
   "metadata": {},
   "outputs": [],
   "source": [
    "s1 = [\"my\", \"name\", \"is\", \"Aditya\", \"Babu\", \"12082002\", \".\"]"
   ]
  },
  {
   "cell_type": "code",
   "execution_count": 229,
   "id": "be8b79f8",
   "metadata": {},
   "outputs": [
    {
     "data": {
      "text/plain": [
       "['name', 'Aditya', 'Babu', '12082002', '.']"
      ]
     },
     "execution_count": 229,
     "metadata": {},
     "output_type": "execute_result"
    }
   ],
   "source": [
    "[i for i in s1 if i not in stopwords.words('english')]"
   ]
  },
  {
   "cell_type": "code",
   "execution_count": 230,
   "id": "6e949a9c",
   "metadata": {},
   "outputs": [],
   "source": [
    "def word_perprocessing(text):\n",
    "    text = text.lower()\n",
    "    text = re.sub(r'\\d+', '', text)\n",
    "    text = text.translate(str.maketrans('', '', string.punctuation))\n",
    "    word = word_tokenize(text)\n",
    "    word = [i for i in word if i not in stopwords.words('english')]\n",
    "    return word"
   ]
  },
  {
   "cell_type": "code",
   "execution_count": 231,
   "id": "f1a085b7",
   "metadata": {},
   "outputs": [
    {
     "data": {
      "text/plain": [
       "['my name is Aditya Babu .',\n",
       " 'i am working at Motorola',\n",
       " 'I am a software engineer .',\n",
       " 'dfkad f,gvnketg kjghvnhrktjk ###nkhgkesrfg 56948',\n",
       " 'nlp is very interesting  field',\n",
       " 'I love to work with gen ai',\n",
       " 'i am trying to Learn word2vc',\n",
       " 'i will try to build two models for word2vec cbow and skip-gram',\n",
       " 'i will also work on cleaning the data which is basically a part of data preprocessing',\n",
       " 'natural language processing is a very Interesting field',\n",
       " 'i am also working on building a chatbot using Nlp and gen ai',\n",
       " 'it is going to perform better than the previous models like one hot encoding, bag of words, tf-idf,',\n",
       " 'wordword2vec is a very powerful technique for word embeddings',\n",
       " 'it is used to convert words into vectors',\n",
       " 'it is used to convert words into vectors that can be used for various NLP tasks',\n",
       " 'it is used to convert words into vectors that can be used for various NLP tasks like sentiment analysis, text classification, etc.',\n",
       " 'it is used to convert words into vectors that can be used for various NLP tasks like sentiment analysis, text classification, etc. and it is also used to convert words into vectors that can be used for various NLP tasks like sentiment analysis, text classification, etc. and it is also used to convert words into vectors that can be used for various NLP tasks like sentiment analysis, text classification, etc.',\n",
       " 'it is used to convert words into vectors that can be used for various NLP tasks like grammar correction, text summarization, etc.',\n",
       " 'it is used to convert words into vectors that can be used for various NLP tasks like',\n",
       " 'i love to work with gen ai and nlp',\n",
       " 'john is a software engineer',\n",
       " 'john is a software engineer and he is working at Motorola',\n",
       " 'john is a software engineer and he is working at Motorola and he is also working on building a chatbot using Nlp and gen ai',\n",
       " 'john is a backend developer and he is working at Motorola',\n",
       " 'john is a backend developer and he is working at Motorola and he is also working on building a chatbot using Nlp and gen ai',\n",
       " 'siya var ram chandra ki jai',\n",
       " 'siya var ram chandra ki jai and sita is the wife of ram']"
      ]
     },
     "execution_count": 231,
     "metadata": {},
     "output_type": "execute_result"
    }
   ],
   "source": [
    "corpus"
   ]
  },
  {
   "cell_type": "code",
   "execution_count": 232,
   "id": "20dc460a",
   "metadata": {},
   "outputs": [],
   "source": [
    "processed_corpus = [word_perprocessing(sentence) for sentence in corpus]"
   ]
  },
  {
   "cell_type": "code",
   "execution_count": 233,
   "id": "ed961a9f",
   "metadata": {},
   "outputs": [
    {
     "data": {
      "text/plain": [
       "[['name', 'aditya', 'babu'],\n",
       " ['working', 'motorola'],\n",
       " ['software', 'engineer'],\n",
       " ['dfkad', 'fgvnketg', 'kjghvnhrktjk', 'nkhgkesrfg'],\n",
       " ['nlp', 'interesting', 'field'],\n",
       " ['love', 'work', 'gen', 'ai'],\n",
       " ['trying', 'learn', 'wordvc'],\n",
       " ['try', 'build', 'two', 'models', 'wordvec', 'cbow', 'skipgram'],\n",
       " ['also',\n",
       "  'work',\n",
       "  'cleaning',\n",
       "  'data',\n",
       "  'basically',\n",
       "  'part',\n",
       "  'data',\n",
       "  'preprocessing'],\n",
       " ['natural', 'language', 'processing', 'interesting', 'field'],\n",
       " ['also', 'working', 'building', 'chatbot', 'using', 'nlp', 'gen', 'ai'],\n",
       " ['going',\n",
       "  'perform',\n",
       "  'better',\n",
       "  'previous',\n",
       "  'models',\n",
       "  'like',\n",
       "  'one',\n",
       "  'hot',\n",
       "  'encoding',\n",
       "  'bag',\n",
       "  'words',\n",
       "  'tfidf'],\n",
       " ['wordwordvec', 'powerful', 'technique', 'word', 'embeddings'],\n",
       " ['used', 'convert', 'words', 'vectors'],\n",
       " ['used', 'convert', 'words', 'vectors', 'used', 'various', 'nlp', 'tasks'],\n",
       " ['used',\n",
       "  'convert',\n",
       "  'words',\n",
       "  'vectors',\n",
       "  'used',\n",
       "  'various',\n",
       "  'nlp',\n",
       "  'tasks',\n",
       "  'like',\n",
       "  'sentiment',\n",
       "  'analysis',\n",
       "  'text',\n",
       "  'classification',\n",
       "  'etc'],\n",
       " ['used',\n",
       "  'convert',\n",
       "  'words',\n",
       "  'vectors',\n",
       "  'used',\n",
       "  'various',\n",
       "  'nlp',\n",
       "  'tasks',\n",
       "  'like',\n",
       "  'sentiment',\n",
       "  'analysis',\n",
       "  'text',\n",
       "  'classification',\n",
       "  'etc',\n",
       "  'also',\n",
       "  'used',\n",
       "  'convert',\n",
       "  'words',\n",
       "  'vectors',\n",
       "  'used',\n",
       "  'various',\n",
       "  'nlp',\n",
       "  'tasks',\n",
       "  'like',\n",
       "  'sentiment',\n",
       "  'analysis',\n",
       "  'text',\n",
       "  'classification',\n",
       "  'etc',\n",
       "  'also',\n",
       "  'used',\n",
       "  'convert',\n",
       "  'words',\n",
       "  'vectors',\n",
       "  'used',\n",
       "  'various',\n",
       "  'nlp',\n",
       "  'tasks',\n",
       "  'like',\n",
       "  'sentiment',\n",
       "  'analysis',\n",
       "  'text',\n",
       "  'classification',\n",
       "  'etc'],\n",
       " ['used',\n",
       "  'convert',\n",
       "  'words',\n",
       "  'vectors',\n",
       "  'used',\n",
       "  'various',\n",
       "  'nlp',\n",
       "  'tasks',\n",
       "  'like',\n",
       "  'grammar',\n",
       "  'correction',\n",
       "  'text',\n",
       "  'summarization',\n",
       "  'etc'],\n",
       " ['used',\n",
       "  'convert',\n",
       "  'words',\n",
       "  'vectors',\n",
       "  'used',\n",
       "  'various',\n",
       "  'nlp',\n",
       "  'tasks',\n",
       "  'like'],\n",
       " ['love', 'work', 'gen', 'ai', 'nlp'],\n",
       " ['john', 'software', 'engineer'],\n",
       " ['john', 'software', 'engineer', 'working', 'motorola'],\n",
       " ['john',\n",
       "  'software',\n",
       "  'engineer',\n",
       "  'working',\n",
       "  'motorola',\n",
       "  'also',\n",
       "  'working',\n",
       "  'building',\n",
       "  'chatbot',\n",
       "  'using',\n",
       "  'nlp',\n",
       "  'gen',\n",
       "  'ai'],\n",
       " ['john', 'backend', 'developer', 'working', 'motorola'],\n",
       " ['john',\n",
       "  'backend',\n",
       "  'developer',\n",
       "  'working',\n",
       "  'motorola',\n",
       "  'also',\n",
       "  'working',\n",
       "  'building',\n",
       "  'chatbot',\n",
       "  'using',\n",
       "  'nlp',\n",
       "  'gen',\n",
       "  'ai'],\n",
       " ['siya', 'var', 'ram', 'chandra', 'ki', 'jai'],\n",
       " ['siya', 'var', 'ram', 'chandra', 'ki', 'jai', 'sita', 'wife', 'ram']]"
      ]
     },
     "execution_count": 233,
     "metadata": {},
     "output_type": "execute_result"
    }
   ],
   "source": [
    "processed_corpus"
   ]
  },
  {
   "cell_type": "code",
   "execution_count": 234,
   "id": "81031a49",
   "metadata": {},
   "outputs": [],
   "source": [
    "word2vec_cbow = Word2Vec(sentences=processed_corpus, vector_size=100, window=5, min_count=0, sg=0)\n",
    "word2vec_skipgram = Word2Vec(sentences=processed_corpus, vector_size=100, window=5, min_count=1, sg=1)"
   ]
  },
  {
   "cell_type": "code",
   "execution_count": 235,
   "id": "3dc88c30",
   "metadata": {},
   "outputs": [],
   "source": [
    "# vector_size => dimensions used to represent the one word, typically 100, 200, or 300.\n",
    "# window => the maximum distance between the current and word predicted word within a sentence, usually set to 5 or 10.\n",
    "#           if window size is larger it will capture more semantic(grammatical) relationships between words, but may also introduce noise.\n",
    "#           if window size is smaller, it will capture more syntactic (order of the word or ordering of the word) relationships.\n",
    "# min_count => the minimum number of occurrences of a word in the corpus to be included in the model, often set to 1 or 5.\n",
    "# sg => the training algorithm, where 0 indicates CBOW (Continuous Bag of Words) and\n",
    "# 1 indicates Skip-gram. CBOW predicts the target word from the context words, while Skip-gram does the opposite, generates surrounding word."
   ]
  },
  {
   "cell_type": "code",
   "execution_count": 236,
   "id": "d796a006",
   "metadata": {},
   "outputs": [
    {
     "data": {
      "text/plain": [
       "<gensim.models.word2vec.Word2Vec at 0x23938a49ee0>"
      ]
     },
     "execution_count": 236,
     "metadata": {},
     "output_type": "execute_result"
    }
   ],
   "source": [
    "word2vec_cbow"
   ]
  },
  {
   "cell_type": "code",
   "execution_count": 237,
   "id": "ce8a644b",
   "metadata": {},
   "outputs": [
    {
     "data": {
      "text/plain": [
       "<gensim.models.word2vec.Word2Vec at 0x23938a49e80>"
      ]
     },
     "execution_count": 237,
     "metadata": {},
     "output_type": "execute_result"
    }
   ],
   "source": [
    "word2vec_skipgram"
   ]
  },
  {
   "cell_type": "code",
   "execution_count": 239,
   "id": "9cb36048",
   "metadata": {},
   "outputs": [
    {
     "data": {
      "text/plain": [
       "array([-2.7363196e-03,  9.9372941e-05,  1.9963784e-03, -9.2795342e-03,\n",
       "        4.8323520e-03,  3.3731090e-03, -1.7588877e-04, -3.4685198e-03,\n",
       "       -7.6282946e-03,  7.6041175e-03, -8.6251749e-03, -7.3848646e-03,\n",
       "        4.4755964e-03, -8.4969262e-03, -3.2952633e-03, -2.1057806e-03,\n",
       "       -1.8630474e-03, -6.8411492e-03,  4.2975964e-03,  9.4354368e-04,\n",
       "        3.6822951e-03, -1.3294923e-03,  6.9315489e-03, -9.5290281e-03,\n",
       "        5.8599995e-03, -5.1505906e-03,  1.6720485e-03, -6.9150724e-03,\n",
       "       -2.4994232e-03, -6.4307931e-03, -3.3524584e-03,  9.7541763e-03,\n",
       "        2.7120134e-03,  1.5593716e-03, -6.0911411e-03,  5.5919192e-03,\n",
       "       -8.1278794e-03, -2.3172179e-03, -6.4963959e-03, -6.3791713e-03,\n",
       "        2.2982676e-03, -3.2827414e-03,  2.4519749e-03,  3.9028483e-03,\n",
       "       -6.2330710e-03, -1.7426561e-03, -2.7900846e-03, -9.7963652e-03,\n",
       "       -9.8372186e-03,  1.1078622e-03,  4.3931897e-03,  2.1536570e-04,\n",
       "       -4.8954510e-03,  3.6267166e-03,  1.6605466e-03, -9.4773304e-03,\n",
       "        7.1760360e-03,  7.7446587e-03, -7.7310023e-03, -7.7513792e-04,\n",
       "        6.0602976e-03, -2.8039848e-03, -3.1746202e-04, -4.1987775e-03,\n",
       "        6.0928049e-03,  7.0228577e-03,  2.0859702e-03, -4.6668509e-03,\n",
       "       -1.8653417e-03, -3.9733308e-03, -9.7791273e-03,  7.8356499e-03,\n",
       "       -5.9946097e-04, -6.1550312e-04,  7.1261111e-03, -9.0571474e-03,\n",
       "        6.3361400e-03, -7.5606983e-03, -5.3718407e-03,  5.0650546e-03,\n",
       "       -3.5289677e-03, -3.5087923e-03, -6.3764961e-03, -3.8617863e-03,\n",
       "       -2.6937500e-03, -4.1274237e-03,  9.4731646e-03,  9.4629042e-03,\n",
       "       -3.6707777e-04, -2.6026400e-04, -5.6252722e-03,  7.9272650e-03,\n",
       "       -4.9322345e-03,  5.8982233e-03,  9.1561843e-03,  5.7566916e-03,\n",
       "       -9.3206012e-04,  5.5414033e-03,  6.9397860e-03, -3.8783385e-03],\n",
       "      dtype=float32)"
      ]
     },
     "execution_count": 239,
     "metadata": {},
     "output_type": "execute_result"
    }
   ],
   "source": [
    "word2vec_skipgram.wv['aditya']"
   ]
  },
  {
   "cell_type": "code",
   "execution_count": 240,
   "id": "0031217d",
   "metadata": {},
   "outputs": [
    {
     "data": {
      "text/plain": [
       "100"
      ]
     },
     "execution_count": 240,
     "metadata": {},
     "output_type": "execute_result"
    }
   ],
   "source": [
    "word2vec_skipgram.vector_size"
   ]
  },
  {
   "cell_type": "code",
   "execution_count": 241,
   "id": "db260a83",
   "metadata": {},
   "outputs": [
    {
     "data": {
      "text/plain": [
       "100"
      ]
     },
     "execution_count": 241,
     "metadata": {},
     "output_type": "execute_result"
    }
   ],
   "source": [
    "len(word2vec_skipgram.wv['aditya'])"
   ]
  },
  {
   "cell_type": "code",
   "execution_count": 242,
   "id": "79e537e5",
   "metadata": {},
   "outputs": [
    {
     "data": {
      "text/plain": [
       "[('various', 0.25118306279182434),\n",
       " ('siya', 0.23137326538562775),\n",
       " ('software', 0.19033364951610565),\n",
       " ('babu', 0.17182287573814392),\n",
       " ('summarization', 0.170846626162529)]"
      ]
     },
     "execution_count": 242,
     "metadata": {},
     "output_type": "execute_result"
    }
   ],
   "source": [
    "word2vec_skipgram.wv.most_similar('aditya', topn=5)"
   ]
  },
  {
   "cell_type": "code",
   "execution_count": 243,
   "id": "12cd614c",
   "metadata": {},
   "outputs": [
    {
     "data": {
      "text/plain": [
       "array([-0.00273343,  0.00011126,  0.00202145, -0.0092903 ,  0.00484476,\n",
       "        0.00336134, -0.00017399, -0.00348236, -0.00760281,  0.00758907,\n",
       "       -0.00860219, -0.00738578,  0.00444983, -0.00850577, -0.0032919 ,\n",
       "       -0.00208511, -0.00189315, -0.00685062,  0.00430461,  0.00098646,\n",
       "        0.00366275, -0.00132461,  0.00693839, -0.00953653,  0.00585103,\n",
       "       -0.00513876,  0.00169438, -0.00693701, -0.00247703, -0.00642714,\n",
       "       -0.00334718,  0.00973071,  0.00270102,  0.00159848, -0.00609348,\n",
       "        0.00557876, -0.00812326, -0.00229045, -0.00646828, -0.00638186,\n",
       "        0.00229533, -0.00328526,  0.00244214,  0.00391608, -0.00626145,\n",
       "       -0.00173943, -0.00277127, -0.00979427, -0.00984274,  0.00111405,\n",
       "        0.00438894,  0.00024388, -0.00488044,  0.00362434,  0.00168676,\n",
       "       -0.00945956,  0.007196  ,  0.00777154, -0.00773252, -0.00076972,\n",
       "        0.00603038, -0.00278541, -0.00033249, -0.00420894,  0.00611209,\n",
       "        0.00699926,  0.00208969, -0.0047063 , -0.00183942, -0.00399689,\n",
       "       -0.00977744,  0.0078108 , -0.00061178, -0.00060748,  0.00709894,\n",
       "       -0.00905355,  0.00632417, -0.00756562, -0.00535991,  0.00508001,\n",
       "       -0.00349327, -0.00349222, -0.00631653, -0.00390456, -0.00265637,\n",
       "       -0.00409642,  0.00946368,  0.00946004, -0.00037856, -0.00027665,\n",
       "       -0.00563672,  0.00792358, -0.00494078,  0.00589674,  0.00912374,\n",
       "        0.00574799, -0.00095759,  0.00555119,  0.00694535, -0.00387599],\n",
       "      dtype=float32)"
      ]
     },
     "execution_count": 243,
     "metadata": {},
     "output_type": "execute_result"
    }
   ],
   "source": [
    "word2vec_cbow.wv['aditya']"
   ]
  },
  {
   "cell_type": "code",
   "execution_count": 244,
   "id": "329bf5cd",
   "metadata": {},
   "outputs": [
    {
     "data": {
      "text/plain": [
       "0.1901153"
      ]
     },
     "execution_count": 244,
     "metadata": {},
     "output_type": "execute_result"
    }
   ],
   "source": [
    "word2vec_cbow.wv.similarity('software', 'aditya')"
   ]
  },
  {
   "cell_type": "code",
   "execution_count": 245,
   "id": "e9df3d53",
   "metadata": {},
   "outputs": [
    {
     "data": {
      "text/plain": [
       "['used',\n",
       " 'nlp',\n",
       " 'words',\n",
       " 'convert',\n",
       " 'working',\n",
       " 'vectors',\n",
       " 'various',\n",
       " 'tasks',\n",
       " 'like',\n",
       " 'also',\n",
       " 'motorola',\n",
       " 'john',\n",
       " 'gen',\n",
       " 'etc',\n",
       " 'ai',\n",
       " 'text',\n",
       " 'sentiment',\n",
       " 'software',\n",
       " 'engineer',\n",
       " 'analysis',\n",
       " 'classification',\n",
       " 'ram',\n",
       " 'building',\n",
       " 'chatbot',\n",
       " 'work',\n",
       " 'using',\n",
       " 'jai',\n",
       " 'field',\n",
       " 'data',\n",
       " 'models',\n",
       " 'ki',\n",
       " 'backend',\n",
       " 'love',\n",
       " 'developer',\n",
       " 'chandra',\n",
       " 'interesting',\n",
       " 'var',\n",
       " 'siya',\n",
       " 'try',\n",
       " 'wordvec',\n",
       " 'fgvnketg',\n",
       " 'kjghvnhrktjk',\n",
       " 'two',\n",
       " 'build',\n",
       " 'learn',\n",
       " 'wordvc',\n",
       " 'babu',\n",
       " 'aditya',\n",
       " 'trying',\n",
       " 'dfkad',\n",
       " 'nkhgkesrfg',\n",
       " 'cbow',\n",
       " 'wife',\n",
       " 'skipgram',\n",
       " 'hot',\n",
       " 'summarization',\n",
       " 'correction',\n",
       " 'grammar',\n",
       " 'embeddings',\n",
       " 'word',\n",
       " 'technique',\n",
       " 'powerful',\n",
       " 'wordwordvec',\n",
       " 'tfidf',\n",
       " 'bag',\n",
       " 'encoding',\n",
       " 'one',\n",
       " 'cleaning',\n",
       " 'previous',\n",
       " 'better',\n",
       " 'perform',\n",
       " 'going',\n",
       " 'sita',\n",
       " 'processing',\n",
       " 'language',\n",
       " 'natural',\n",
       " 'preprocessing',\n",
       " 'part',\n",
       " 'basically',\n",
       " 'name']"
      ]
     },
     "execution_count": 245,
     "metadata": {},
     "output_type": "execute_result"
    }
   ],
   "source": [
    "word2vec_cbow.wv.index_to_key"
   ]
  },
  {
   "cell_type": "code",
   "execution_count": 246,
   "id": "58244d43",
   "metadata": {},
   "outputs": [
    {
     "data": {
      "text/plain": [
       "[('various', 0.24850758910179138),\n",
       " ('siya', 0.22948773205280304),\n",
       " ('software', 0.1901153177022934),\n",
       " ('babu', 0.17172542214393616),\n",
       " ('summarization', 0.16812586784362793)]"
      ]
     },
     "execution_count": 246,
     "metadata": {},
     "output_type": "execute_result"
    }
   ],
   "source": [
    "word2vec_cbow.wv.most_similar('aditya', topn=5)"
   ]
  },
  {
   "cell_type": "code",
   "execution_count": 247,
   "id": "bce940cb",
   "metadata": {},
   "outputs": [
    {
     "data": {
      "text/plain": [
       "[('various', 0.25118306279182434),\n",
       " ('siya', 0.23137326538562775),\n",
       " ('software', 0.19033364951610565),\n",
       " ('babu', 0.17182287573814392),\n",
       " ('summarization', 0.170846626162529)]"
      ]
     },
     "execution_count": 247,
     "metadata": {},
     "output_type": "execute_result"
    }
   ],
   "source": [
    "word2vec_skipgram.wv.most_similar('aditya', topn=5)"
   ]
  },
  {
   "cell_type": "code",
   "execution_count": 248,
   "id": "b351dd1a",
   "metadata": {},
   "outputs": [],
   "source": [
    "from sklearn.manifold import TSNE\n",
    "import numpy as np\n",
    "import matplotlib.pyplot as plt"
   ]
  },
  {
   "cell_type": "code",
   "execution_count": 249,
   "id": "cc3d6cf4",
   "metadata": {},
   "outputs": [],
   "source": [
    "word_vectors = word2vec_cbow.wv\n",
    "vocab = list(word_vectors.index_to_key)"
   ]
  },
  {
   "cell_type": "code",
   "execution_count": 250,
   "id": "0532cae6",
   "metadata": {},
   "outputs": [
    {
     "data": {
      "text/plain": [
       "['used',\n",
       " 'nlp',\n",
       " 'words',\n",
       " 'convert',\n",
       " 'working',\n",
       " 'vectors',\n",
       " 'various',\n",
       " 'tasks',\n",
       " 'like',\n",
       " 'also',\n",
       " 'motorola',\n",
       " 'john',\n",
       " 'gen',\n",
       " 'etc',\n",
       " 'ai',\n",
       " 'text',\n",
       " 'sentiment',\n",
       " 'software',\n",
       " 'engineer',\n",
       " 'analysis',\n",
       " 'classification',\n",
       " 'ram',\n",
       " 'building',\n",
       " 'chatbot',\n",
       " 'work',\n",
       " 'using',\n",
       " 'jai',\n",
       " 'field',\n",
       " 'data',\n",
       " 'models',\n",
       " 'ki',\n",
       " 'backend',\n",
       " 'love',\n",
       " 'developer',\n",
       " 'chandra',\n",
       " 'interesting',\n",
       " 'var',\n",
       " 'siya',\n",
       " 'try',\n",
       " 'wordvec',\n",
       " 'fgvnketg',\n",
       " 'kjghvnhrktjk',\n",
       " 'two',\n",
       " 'build',\n",
       " 'learn',\n",
       " 'wordvc',\n",
       " 'babu',\n",
       " 'aditya',\n",
       " 'trying',\n",
       " 'dfkad',\n",
       " 'nkhgkesrfg',\n",
       " 'cbow',\n",
       " 'wife',\n",
       " 'skipgram',\n",
       " 'hot',\n",
       " 'summarization',\n",
       " 'correction',\n",
       " 'grammar',\n",
       " 'embeddings',\n",
       " 'word',\n",
       " 'technique',\n",
       " 'powerful',\n",
       " 'wordwordvec',\n",
       " 'tfidf',\n",
       " 'bag',\n",
       " 'encoding',\n",
       " 'one',\n",
       " 'cleaning',\n",
       " 'previous',\n",
       " 'better',\n",
       " 'perform',\n",
       " 'going',\n",
       " 'sita',\n",
       " 'processing',\n",
       " 'language',\n",
       " 'natural',\n",
       " 'preprocessing',\n",
       " 'part',\n",
       " 'basically',\n",
       " 'name']"
      ]
     },
     "execution_count": 250,
     "metadata": {},
     "output_type": "execute_result"
    }
   ],
   "source": [
    "vocab"
   ]
  },
  {
   "cell_type": "code",
   "execution_count": 251,
   "id": "c3dc9a75",
   "metadata": {},
   "outputs": [
    {
     "data": {
      "text/plain": [
       "80"
      ]
     },
     "execution_count": 251,
     "metadata": {},
     "output_type": "execute_result"
    }
   ],
   "source": [
    "len(vocab)"
   ]
  },
  {
   "cell_type": "code",
   "execution_count": 252,
   "id": "277a9b47",
   "metadata": {},
   "outputs": [],
   "source": [
    "x = np.array([word_vectors[i] for i in vocab])"
   ]
  },
  {
   "cell_type": "code",
   "execution_count": 253,
   "id": "99583921",
   "metadata": {},
   "outputs": [],
   "source": [
    "tsne = TSNE(n_components=2)"
   ]
  },
  {
   "cell_type": "code",
   "execution_count": 254,
   "id": "43adf185",
   "metadata": {},
   "outputs": [],
   "source": [
    "x_new_embedings = tsne.fit_transform(x)"
   ]
  },
  {
   "cell_type": "code",
   "execution_count": 255,
   "id": "2ed9d777",
   "metadata": {},
   "outputs": [
    {
     "data": {
      "image/png": "[encoded data removed]",
      "text/plain": [
       "<Figure size 1200x600 with 1 Axes>"
      ]
     },
     "metadata": {},
     "output_type": "display_data"
    }
   ],
   "source": [
    "plt.figure(figsize=(12, 6))\n",
    "plt.scatter(x_new_embedings[:, 0], x_new_embedings[:, 1], marker='o')\n",
    "\n",
    "for i, word in enumerate(vocab[:len(vocab)]):\n",
    "    plt.annotate(word, xy=(x_new_embedings[i, 0], x_new_embedings[i, 1]))\n",
    "plt.show()"
   ]
  },
  {
   "cell_type": "code",
   "execution_count": null,
   "id": "d7599026",
   "metadata": {},
   "outputs": [],
   "source": []
  },
  {
   "cell_type": "code",
   "execution_count": null,
   "id": "db79fcdc",
   "metadata": {},
   "outputs": [],
   "source": []
  }
 ],
 "metadata": {
  "kernelspec": {
   "display_name": "Python 3",
   "language": "python",
   "name": "python3"
  },
  "language_info": {
   "codemirror_mode": {
    "name": "ipython",
    "version": 3
   },
   "file_extension": ".py",
   "mimetype": "text/x-python",
   "name": "python",
   "nbconvert_exporter": "python",
   "pygments_lexer": "ipython3",
   "version": "3.9.7"
  }
 },
 "nbformat": 4,
 "nbformat_minor": 5
}
